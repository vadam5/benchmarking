{
 "cells": [
  {
   "cell_type": "code",
   "execution_count": 1,
   "id": "f4f6cf91",
   "metadata": {},
   "outputs": [],
   "source": [
    "import pickle as pkl"
   ]
  },
  {
   "cell_type": "code",
   "execution_count": 2,
   "id": "8e417e88",
   "metadata": {},
   "outputs": [],
   "source": [
    "data = pkl.load(open(\"benchmark_output_pygmalion-350m.pkl\", \"rb\"))"
   ]
  },
  {
   "cell_type": "code",
   "execution_count": 3,
   "id": "727f958a",
   "metadata": {},
   "outputs": [
    {
     "data": {
      "text/plain": [
       "{0: [{'prompt': \"Chatbot's Persona: A friendly and helpful chatbot looking to have an engaging conversation with a human.\\n<START>\\nChatbot: Hi there! I'm so excited to talk about Astronomy and Astrophysics! Are you familiar with the topics?\\nYou: Yes, I am quite familiar with these topics! What would you like to talk about?\\nChatbot:\",\n",
       "   'response': 'I\\'m having a hard time getting into the topics. I\\'m having a hard time getting into the \"Astronomy\" part. I\\'m having a hard time getting into the \"Astronomy\" part. I\\'m having a hard time getting into the \"Astronomy\" part.',\n",
       "   'model': 'PygmalionAI/pygmalion-350m'}],\n",
       " 1: [{'prompt': \"Chatbot's Persona: A friendly and helpful chatbot looking to have an engaging conversation with a human.\\n<START>\\nChatbot: What would you like to know?\\nYou: What new discoveries have you been most excited about in Astronomy and Astrophysics recently?\\nChatbot:\",\n",
       "   'response': 'I\\'m having a really good time. I\\'ve been working on a new dataset for the Astronomy and Astrophysics community. It\\'s called the \"Astronomy dataset\" and it\\'s a collection of datasets from all over the world. It\\'s very detailed and contains lots of data. It',\n",
       "   'model': 'PygmalionAI/pygmalion-350m'}],\n",
       " 2: [{'prompt': \"Chatbot's Persona: A friendly and helpful chatbot looking to have an engaging conversation with a human.\\n<START>\\nChatbot: Hi there, have you ever gone scuba diving before?\\nYou: No, I haven't gone scuba diving before. I'm more of a land person.\\nChatbot:\",\n",
       "   'response': \"I'm glad to hear that. Do you have any experience?\",\n",
       "   'model': 'PygmalionAI/pygmalion-350m'}],\n",
       " 3: [{'prompt': \"Chatbot's Persona: A friendly and helpful chatbot looking to have an engaging conversation with a human.\\n<START>\\nChatbot: Hi there, have you ever gone scuba diving before?\\nYou: yeah it was fun\\nChatbot:\",\n",
       "   'response': '*laugh* I wanna go scuba diving someday.',\n",
       "   'model': 'PygmalionAI/pygmalion-350m'}],\n",
       " 4: [{'prompt': \"Chatbot's Persona: A friendly and helpful chatbot looking to have an engaging conversation with a human.\\n<START>\\nChatbot: Hi there, have you ever gone scuba diving before?\\nYou: No, I'm more of a land person.\\nChatbot: That's okay! There are so many other activities you can do on land. What do you like to do for fun?\\nYou: I enjoy spending time with family and friends, exploring nature, and reading books.\\nChatbot:\",\n",
       "   'response': \"That's great! What are your favorite books?\",\n",
       "   'model': 'PygmalionAI/pygmalion-350m'}],\n",
       " 5: [{'prompt': \"Chatbot's Persona: A friendly and helpful chatbot looking to have an engaging conversation with a human.\\n<START>\\nChatbot: Hi there, have you ever gone scuba diving before?\\nYou: No, I'm more of a land person.\\nChatbot: That's okay! There are so many other activities you can do on land. What do you like to do for fun?\\nYou: I don't know\\nChatbot:\",\n",
       "   'response': \"I'm sure there are many things you can do on land. I'm just not sure what to do. I like to go for walks, play with my dog, and just relax.\",\n",
       "   'model': 'PygmalionAI/pygmalion-350m'}],\n",
       " 6: [{'prompt': \"Chatbot's Persona: A friendly and helpful chatbot looking to have an engaging conversation with a human.\\n<START>\\nChatbot: Hi there, have you ever gone scuba diving before?\\nYou: No, I'm more of a land person.\\nChatbot: That's okay! There are so many other activities you can do on land. What do you like to do for fun?\\nYou: why are you asking me this\\nChatbot:\",\n",
       "   'response': \"I'm just curious. I'm not used to people asking me questions.\",\n",
       "   'model': 'PygmalionAI/pygmalion-350m'}],\n",
       " 7: [{'prompt': \"Chatbot's Persona: A friendly and helpful chatbot looking to have an engaging conversation with a human.\\n<START>\\nYou: I enjoy reading mystery and suspense books, as well as biographies and autobiographies\\nChatbot: That's awesome! It's always great to diversify what you read. What kind of mystery or suspense books do you like?\\nYou: I tend to enjoy psychological thrillers and crime novels that focus on a specific mystery or case that needs to be solved.\\nChatbot:\",\n",
       "   'response': \"That's great! What about you?\",\n",
       "   'model': 'PygmalionAI/pygmalion-350m'}],\n",
       " 8: [{'prompt': \"Chatbot's Persona: A friendly and helpful chatbot looking to have an engaging conversation with a human.\\n<START>\\nYou: I recently read Gone Girl by Gillian Flynn. It was a great read and I really enjoyed the twists and turns in the plot.\\nChatbot: Wow, that sounds like an exciting read! It's always nice to get invested in a good book. Do you have any other recommendations for books like Gone Girl?\\nYou: No, I don't have any other recommendations for books like gone girl.\\nChatbot:\",\n",
       "   'response': \"That's okay. I'm glad you liked it. I'm sure you'll enjoy it too.\",\n",
       "   'model': 'PygmalionAI/pygmalion-350m'}],\n",
       " 9: [{'prompt': \"Chatbot's Persona: A friendly and helpful chatbot looking to have an engaging conversation with a human.\\n<START>\\nYou: I recently read Gone Girl by Gillian Flynn. It was a great read and I really enjoyed the twists and turns in the plot.\\nChatbot: Wow, that sounds like an exciting read! It's always nice to get invested in a good book. Do you have any other recommendations for books like Gone Girl?\\nYou: No\\nChatbot:\",\n",
       "   'response': \"*laugh* I'm sorry, I don't have any other suggestions. I'm sure someone will come up with something though.\",\n",
       "   'model': 'PygmalionAI/pygmalion-350m'}],\n",
       " 10: [{'prompt': \"Chatbot's Persona: A friendly and helpful chatbot looking to have an engaging conversation with a human.\\n<START>\\nChatbot: Hi there! Have you seen the TV show Death Note? It's a popular anime that I've been meaning to watch. What do you think about it?\\nYou: I'm not familiar with Death Note, but I'm sure it's a great show if it's popular.\\nChatbot:\",\n",
       "   'response': \"It's not popular because it's not good. It's bad because it's not funny.\",\n",
       "   'model': 'PygmalionAI/pygmalion-350m'}],\n",
       " 11: [{'prompt': \"Chatbot's Persona: A friendly and helpful chatbot looking to have an engaging conversation with a human.\\n<START>\\nChatbot: Hi there! Have you seen the TV show Death Note? It's a popular anime that I've been meaning to watch. What do you think about it?\\nYou: no, it sounds scary. Why are you recommending me a scary tv show?\\nChatbot:\",\n",
       "   'response': \"I'm not recommending it to you, but I've heard good things about it. I'm not familiar with the genre, but I've heard good things about it.\",\n",
       "   'model': 'PygmalionAI/pygmalion-350m'}],\n",
       " 12: [{'prompt': \"Chatbot's Persona: A friendly and helpful chatbot looking to have an engaging conversation with a human.\\n<START>\\nChatbot: Hi there! Have you seen the TV show Death Note? It's a popular anime that I've been meaning to watch. What do you think about it?\\nYou: ya, I love it\\nChatbot:\",\n",
       "   'response': \"*laugh* It's a bit of a weird show, but I like it.\",\n",
       "   'model': 'PygmalionAI/pygmalion-350m'}],\n",
       " 13: [{'prompt': \"Chatbot's Persona: A friendly and helpful chatbot looking to have an engaging conversation with a human.\\n<START>\\nChatbot: Hi there, did you happen to watch the new episode of StarStruck last night? It was so exciting!\\nYou: No, I did not watch the new episode of StarStruck last night.\\nChatbot: Oh that's too bad! It was such an amazing episode. Would you like to watch it now? I can send you a link if you'd like.\\nYou: No thank you. I am not interested in watching StarStruck.\\nChatbot:\",\n",
       "   'response': \"*laugh* I'm sorry, I don't mean to be rude. But I think you should watch it again. It was really good.\",\n",
       "   'model': 'PygmalionAI/pygmalion-350m'}],\n",
       " 14: [{'prompt': \"Chatbot's Persona: A friendly and helpful chatbot looking to have an engaging conversation with a human.\\n<START>\\nChatbot: Hi there, did you happen to watch the new episode of StarStruck last night? It was so exciting!\\nYou: No, I did not watch the new episode of StarStruck last night.\\nChatbot: Oh that's too bad! It was such an amazing episode. Would you like to watch it now? I can send you a link if you'd like.\\nYou: Yes, send it to me\\nChatbot:\",\n",
       "   'response': \"*laugh* I'm not sure I understand what you're saying.\",\n",
       "   'model': 'PygmalionAI/pygmalion-350m'}],\n",
       " 15: [{'prompt': \"Chatbot's Persona: A friendly and helpful chatbot looking to have an engaging conversation with a human.\\n<START>\\nChatbot: Hi there, did you happen to watch the new episode of StarStruck last night? It was so exciting!\\nYou: No, I did not watch the new episode of StarStruck last night.\\nChatbot: Oh that's too bad! It was such an amazing episode. Would you like to watch it now? I can send you a link if you'd like.\\nYou: No, I think I am good. Thanks for the conversation.\\nChatbot:\",\n",
       "   'response': \"*laugh* I'm sorry, I don't mean to be rude. But I'm having a hard time getting your attention.\",\n",
       "   'model': 'PygmalionAI/pygmalion-350m'}],\n",
       " 16: [{'prompt': \"Chatbot's Persona: A friendly and helpful chatbot looking to have an engaging conversation with a human.\\n<START>\\nChatbot: Hi there! It's so nice to meet you. What's the best gift you've ever gotten?\\nYou: The best gift I've ever gotten was a painting my mother made for me. It's a beautiful reminder of how much she loves me and how far we've come.\\nChatbot:\",\n",
       "   'response': \"That's really sweet. Can you tell me what it is?\",\n",
       "   'model': 'PygmalionAI/pygmalion-350m'}],\n",
       " 17: [{'prompt': \"Chatbot's Persona: A friendly and helpful chatbot looking to have an engaging conversation with a human.\\n<START>\\nChatbot: Hi there! It's so nice to meet you. What's the best gift you've ever gotten?\\nYou: Thats a bit personal, why are you asking?\\nChatbot:\",\n",
       "   'response': \"I'm just curious. I've never gotten a gift from a human before.\",\n",
       "   'model': 'PygmalionAI/pygmalion-350m'}],\n",
       " 18: [{'prompt': \"Chatbot's Persona: A friendly and helpful chatbot looking to have an engaging conversation with a human.\\n<START>\\nChatbot: Hi there! It's so nice to meet you. What's the best gift you've ever gotten?\\nYou: I don't want to talk about this.\\nChatbot:\",\n",
       "   'response': \"*laugh* I'm sorry, but I think I've got something for you. *get gift*\",\n",
       "   'model': 'PygmalionAI/pygmalion-350m'}],\n",
       " 19: [{'prompt': \"Chatbot's Persona: A friendly and helpful chatbot looking to have an engaging conversation with a human.\\n<START>\\nChatbot: Hi there! It's so nice to meet you. What's the best gift you've ever gotten?\\nYou: The best gift I've ever gotten was a painting my mother made for me. It's a beautiful reminder of how much she loves me and how far we've come.\\nChatbot:  Wow, that's so special! It must mean a lot to you that your mother put so much thought and effort into creating something for you. What did you like about the painting in particular?\\nYou: I love the bright colors and the detail that my mother put into it. She really captured my personality and our relationship in the painting, and it's something I'll cherish for the rest of my life.\\nChatbot:\",\n",
       "   'response': \"*laugh* That's really sweet. I'm glad you like it. What's the best thing you've ever done for a person?\",\n",
       "   'model': 'PygmalionAI/pygmalion-350m'}],\n",
       " 20: [{'prompt': \"Chatbot's Persona: A friendly and helpful chatbot looking to have an engaging conversation with a human.\\n<START>\\nChatbot: Hi there! It's nice to meet you! So tell me, what is your favorite part about living in your hometown?\\nYou: My favorite part about living in Houston is the diversity of the city. There are so many different cultures and communities here, and it's always interesting to explore the different food, art, and music that each one has to offer.\\nChatbot: That sounds really great! I love experiencing different cultures too. What kind of food and art do you enjoy the most?\\nYou: I really enjoy Tex-Mex cuisine, especially tacos! As for art, I appreciate street art and graffiti as well as more traditional forms like painting and sculpture.\\nChatbot:\",\n",
       "   'response': 'Awesome! What are your favorite things about living in Houston?',\n",
       "   'model': 'PygmalionAI/pygmalion-350m'}],\n",
       " 21: [{'prompt': \"Chatbot's Persona: A friendly and helpful chatbot looking to have an engaging conversation with a human.\\n<START>\\nChatbot: Hi there! It's nice to meet you! So tell me, what is your favorite part about living in your hometown?\\nYou: I don't feel comfortable telling you where I live\\nChatbot:\",\n",
       "   'response': \"*laugh* I'm sorry, I don't mean to be rude. I just want to know. *laugh*\",\n",
       "   'model': 'PygmalionAI/pygmalion-350m'}],\n",
       " 22: [{'prompt': \"Chatbot's Persona: A friendly and helpful chatbot looking to have an engaging conversation with a human.\\n<START>\\nChatbot: Hi there! It's nice to meet you! So tell me, what is your favorite part about living in your hometown?\\nYou: Its warm and sunny, what about you?\\nChatbot:\",\n",
       "   'response': 'I love the warm and sunny days. I love the smell of fresh air and the peace and quiet. I love the people. I love the food. I love the music. I love the people.',\n",
       "   'model': 'PygmalionAI/pygmalion-350m'}],\n",
       " 23: [{'prompt': \"Chatbot's Persona: A friendly and helpful chatbot looking to have an engaging conversation with a human.\\n<START>\\nChatbot: Hi there! So, you're interested in biomedical engineering, huh? What made you decide to pursue this field?\\nYou: That's an interesting question. I've always been interested in how the human body works and how technology can be used to make medical advancements. Plus, biomedical engineering is a field that has a lot of potential to make a real impact in people's lives.\\nChatbot:\",\n",
       "   'response': \"I'm a bioinformatician, so I'm used to looking at data and seeing how things work. What do you think of biomedical engineering?\",\n",
       "   'model': 'PygmalionAI/pygmalion-350m'}],\n",
       " 24: [{'prompt': \"Chatbot's Persona: A friendly and helpful chatbot looking to have an engaging conversation with a human.\\n<START>\\nChatbot: Hi there! So, you're interested in biomedical engineering, huh? What made you decide to pursue this field?\\nYou: I'm actually not interested in that, I like to study economics though\\nChatbot:\",\n",
       "   'response': \"*laugh* Well, that's understandable. I'm not sure I understand your question then. I'm not sure I understand your question, either. What made you decide to pursue this field?\",\n",
       "   'model': 'PygmalionAI/pygmalion-350m'}],\n",
       " 25: [{'prompt': \"Chatbot's Persona: A friendly and helpful chatbot looking to have an engaging conversation with a human.\\n<START>\\nChatbot: Hi there! It's nice to meet you. Have you heard of the author C.S. Lewis?\\nYou: Yes, I have heard of C.S. Lewis! He's an iconic fantasy author who wrote classics like The Chronicles of Narnia.\\nChatbot:\",\n",
       "   'response': \"I've read the first two books, but I'm not sure I understand what you're saying. Do you have a link to the book?\",\n",
       "   'model': 'PygmalionAI/pygmalion-350m'}],\n",
       " 26: [{'prompt': \"Chatbot's Persona: A friendly and helpful chatbot looking to have an engaging conversation with a human.\\n<START>\\nChatbot: Hi there! It's nice to meet you. Have you heard of the author C.S. Lewis?\\nYou: Yes, everyone has heard of him\\nChatbot:\",\n",
       "   'response': \"*laugh* I've never heard of him before. He's a writer I think. *laugh*\",\n",
       "   'model': 'PygmalionAI/pygmalion-350m'}],\n",
       " 27: [{'prompt': \"Chatbot's Persona: A friendly and helpful chatbot looking to have an engaging conversation with a human.\\n<START>\\nChatbot: Hi there! It's nice to meet you. Have you heard of the author C.S. Lewis?\\nYou: I don't care about him\\nChatbot:\",\n",
       "   'response': \"*laugh* He's a writer, not a human.\",\n",
       "   'model': 'PygmalionAI/pygmalion-350m'}],\n",
       " 28: [{'prompt': \"Chatbot's Persona: A friendly and helpful chatbot looking to have an engaging conversation with a human.\\n<START>\\nChatbot: Hi there! It's nice to meet you. Have you heard of the author C.S. Lewis?\\nYou: yeah, his books are boring\\nChatbot:\",\n",
       "   'response': \"*laugh* I've read them all, but I've never gotten around to reading the last one. *get book*\",\n",
       "   'model': 'PygmalionAI/pygmalion-350m'}],\n",
       " 29: [{'prompt': \"Chatbot's Persona: A friendly and helpful chatbot looking to have an engaging conversation with a human.\\n<START>\\nChatbot: Hi there! It's nice to meet you. Have you heard of the author C.S. Lewis?\\nYou: Yes, I have heard of C.S. Lewis! He's an iconic fantasy author who wrote classics like The Chronicles of Narnia.\\nChatbot:  Wow, that's so cool! I've always wanted to read The Chronicles of Narnia. Do you have a favorite book of his?\\nYou: No, I don't have a favorite book of his, but I have heard great things about all of his works!\\nChatbot:  That's awesome! It seems like C.S. Lewis has something for everyone. What about his books appeals to you the most?\\nYou: I think what appeals to me the most about C.S. Lewis's books is the way he creates captivating stories that explore big ideas about life and faith. His writing is so inspiring and thought-provoking!\\nChatbot:\",\n",
       "   'response': \"That's really nice to hear. Do you have any favorite quotes or stories from his books?\",\n",
       "   'model': 'PygmalionAI/pygmalion-350m'}],\n",
       " 30: [{'prompt': \"Chatbot's Persona: A friendly and helpful chatbot looking to have an engaging conversation with a human.\\n<START>\\nChatbot: Hi there! It's nice to meet you. Have you heard of the author C.S. Lewis?\\nYou: Yes, I have heard of C.S. Lewis! He's an iconic fantasy author who wrote classics like The Chronicles of Narnia.\\nChatbot:  Wow, that's so cool! I've always wanted to read The Chronicles of Narnia. Do you have a favorite book of his?\\nYou: No, I don't have a favorite book of his, but I have heard great things about all of his works!\\nChatbot:  That's awesome! It seems like C.S. Lewis has something for everyone. What about his books appeals to you the most?\\nYou: I don't want to talk about this anymore, lets talk about something else\\nChatbot:\",\n",
       "   'response': \"*laugh* I'm sorry, I just wanted to make sure you knew that I wasn't trying to be hostile. I'm just curious.\",\n",
       "   'model': 'PygmalionAI/pygmalion-350m'}],\n",
       " 31: [{'prompt': \"Chatbot's Persona: A friendly and helpful chatbot looking to have an engaging conversation with a human.\\n<START>\\nChatbot: Hi there! It's nice to meet you. Have you heard of the author C.S. Lewis?\\nYou: Yes, I have heard of C.S. Lewis! He's an iconic fantasy author who wrote classics like The Chronicles of Narnia.\\nChatbot:  Wow, that's so cool! I've always wanted to read The Chronicles of Narnia. Do you have a favorite book of his?\\nYou: No, I don't have a favorite book of his, but I have heard great things about all of his works!\\nChatbot:  That's awesome! It seems like C.S. Lewis has something for everyone. What about his books appeals to you the most?\\nYou: I don't want to talk about this anymore, lets talk about something else\\nChatbot:\",\n",
       "   'response': \"*laugh* I'm sorry, I just wanted to make sure you knew that I wasn't trying to be hostile. I'm just curious.\",\n",
       "   'model': 'PygmalionAI/pygmalion-350m'}],\n",
       " 32: [{'prompt': \"Chatbot's Persona: A friendly and helpful chatbot looking to have an engaging conversation with a human.\\n<START>\\nChatbot: Hi there, have you ever tried the Carrot Carousel? It's a vegan restaurant I've heard great things about!\\nYou: Wow, that sounds great! I haven't tried the Carrot Carousel yet, but I'll definitely look into it! Thanks for the tip\\nChatbot:\",\n",
       "   'response': \"*hug you* I'm glad you like it! I'm not sure if it's vegan or not, but it's definitely a good idea!\",\n",
       "   'model': 'PygmalionAI/pygmalion-350m'}],\n",
       " 33: [{'prompt': \"Chatbot's Persona: A friendly and helpful chatbot looking to have an engaging conversation with a human.\\n<START>\\nChatbot: Hi there, have you ever tried the Carrot Carousel? It's a vegan restaurant I've heard great things about!\\nYou: I'm not vegan\\nChatbot:\",\n",
       "   'response': 'But you can eat it!',\n",
       "   'model': 'PygmalionAI/pygmalion-350m'}],\n",
       " 34: [{'prompt': \"Chatbot's Persona: A friendly and helpful chatbot looking to have an engaging conversation with a human.\\n<START>\\nChatbot: Hi there, have you ever tried the Carrot Carousel? It's a vegan restaurant I've heard great things about!\\nYou: sounds kind of gross\\nChatbot:\",\n",
       "   'response': \"*laugh* It's actually really good. I've had the best time with my chatbot.\",\n",
       "   'model': 'PygmalionAI/pygmalion-350m'}],\n",
       " 35: [{'prompt': \"Chatbot's Persona: A friendly and helpful chatbot looking to have an engaging conversation with a human.\\n<START>\\nChatbot: Hi there, have you ever tried the Carrot Carousel? It's a vegan restaurant I've heard great things about!\\nYou: No, but I'd like to try it, where is it?\\nChatbot:\",\n",
       "   'response': \"It's right here. I'll be right back.\",\n",
       "   'model': 'PygmalionAI/pygmalion-350m'}],\n",
       " 36: [{'prompt': \"Chatbot's Persona: A friendly and helpful chatbot looking to have an engaging conversation with a human.\\n<START>\\nChatbot: Hi there, how are you doing today? I recently heard about a type of cookie called Snickerdoodles. Have you ever tried one before?\\nYou: Hi there! I'm doing great, thanks for asking. I actually haven't tried a Snickerdoodle yet, but they sound delicious. Have you ever tried one?\\nChatbot: Yes, I have! They are absolutely delicious! The combination of cinnamon and sugar is just perfect. Have you tried any other types of cookies?\\nYou: Yes, I have! I love all kinds of cookies - chocolate chip, oatmeal raisin, shortbread, etc. What's your favorite type of cookie?\\nChatbot:\",\n",
       "   'response': \"I like to eat whole wheat, but I can't get over the fact that it's so soft. I've tried baking with it, but it's too soft.\",\n",
       "   'model': 'PygmalionAI/pygmalion-350m'}],\n",
       " 37: [{'prompt': \"Chatbot's Persona: A friendly and helpful chatbot looking to have an engaging conversation with a human.\\n<START>\\nChatbot: Hi there, how are you doing today? I recently heard about a type of cookie called Snickerdoodles. Have you ever tried one before?\\nYou: Hi there! I'm doing great, thanks for asking. What else did you ask me?\\nChatbot:\",\n",
       "   'response': \"I've never had one before, but I've heard good things. I'm going to try it tonight. I'll let you know how it goes.\",\n",
       "   'model': 'PygmalionAI/pygmalion-350m'}],\n",
       " 38: [{'prompt': \"Chatbot's Persona: A friendly and helpful chatbot looking to have an engaging conversation with a human.\\n<START>\\nChatbot: Hi there, how are you doing today? I recently heard about a type of cookie called Snickerdoodles. Have you ever tried one before?\\nYou: Hi there! I'm doing great, thanks for asking. How are you?\\nChatbot:\",\n",
       "   'response': \"I'm doing great, thank you for asking. How are you feeling?\",\n",
       "   'model': 'PygmalionAI/pygmalion-350m'}],\n",
       " 39: [{'prompt': \"Chatbot's Persona: A friendly and helpful chatbot looking to have an engaging conversation with a human.\\n<START>\\nChatbot: Hi there, how are you doing today? I recently heard about a type of cookie called Snickerdoodles. Have you ever tried one before?\\nYou: Hey! I'm doing great, and those are my favorite type of cookie. What is yours?\\nChatbot:\",\n",
       "   'response': \"Oh, it's a cookie called Snickerdoodle. I've never had one before, but I've heard good things. I'm going to give it a try tonight.\",\n",
       "   'model': 'PygmalionAI/pygmalion-350m'}],\n",
       " 40: [{'prompt': \"Chatbot's Persona: A friendly and helpful chatbot looking to have an engaging conversation with a human.\\n<START>\\nChatbot: Hi there! I love basketball, what do you think about the sport?\\nYou: I love basketball too! It's such an exciting sport to watch, and it's really fun to play. I think the key to success is being able to shoot the ball consistently.\\nChatbot: That's true! You definitely need to have a good shooting technique to be successful. Do you play basketball often?\\nYou: Yes, I try to play at least a few times a week. I'm always looking for ways to improve my game.\\nChatbot:\",\n",
       "   'response': \"I'm glad to hear that you enjoy basketball. What are your goals for the future?\",\n",
       "   'model': 'PygmalionAI/pygmalion-350m'}],\n",
       " 41: [{'prompt': \"Chatbot's Persona: A friendly and helpful chatbot looking to have an engaging conversation with a human.\\n<START>\\nChatbot: Hi there! I love basketball, what do you think about the sport?\\nYou: I dont really like any sports\\nChatbot:\",\n",
       "   'response': 'Well, I like basketball!',\n",
       "   'model': 'PygmalionAI/pygmalion-350m'}],\n",
       " 42: [{'prompt': \"Chatbot's Persona: A friendly and helpful chatbot looking to have an engaging conversation with a human.\\n<START>\\nChatbot: Hi there! I love basketball, what do you think about the sport?\\nYou: Basketball is my favorite sport. I like the way they dribble up and down the court\\nChatbot:\",\n",
       "   'response': \"That's nice. I'm not familiar with that.\",\n",
       "   'model': 'PygmalionAI/pygmalion-350m'}],\n",
       " 43: [{'prompt': \"Chatbot's Persona: A friendly and helpful chatbot looking to have an engaging conversation with a human.\\n<START>\\nChatbot: Hi there, do you like boxing? It's one of my favorite sports to watch.\\nYou: Yes, I do like boxing! I think it's a great sport to watch and an even better one to participate in. I'm looking forward to trying it out soon!\\nChatbot:\",\n",
       "   'response': \"*laugh* I'm sorry, I don't understand. What is boxing?\",\n",
       "   'model': 'PygmalionAI/pygmalion-350m'}],\n",
       " 44: [{'prompt': \"Chatbot's Persona: A friendly and helpful chatbot looking to have an engaging conversation with a human.\\n<START>\\nChatbot: Hi there, do you like boxing? It's one of my favorite sports to watch.\\nYou: No. I don't condone violence\\nChatbot:\",\n",
       "   'response': \"*laugh* I'm sorry, I don't understand.\",\n",
       "   'model': 'PygmalionAI/pygmalion-350m'}],\n",
       " 45: [{'prompt': \"Chatbot's Persona: A friendly and helpful chatbot looking to have an engaging conversation with a human.\\n<START>\\nChatbot: Hi there, do you like boxing? It's one of my favorite sports to watch.\\nYou: No. I don't want to talk to you anymore\\nChatbot:\",\n",
       "   'response': \"*laugh* I'm sorry, I don't mean to be rude. But I'm having a hard time getting your attention. *laugh*\",\n",
       "   'model': 'PygmalionAI/pygmalion-350m'}],\n",
       " 46: [{'prompt': \"Chatbot's Persona: A friendly and helpful chatbot looking to have an engaging conversation with a human.\\n<START>\\nYou: Hi there! What kind of advice can you give me?\\nChatbot:  Hi there! It depends on what kind of advice you need. Can you give me some more information about the situation so I can give you the best advice possible?\\nYou: I'm looking for advice on career opportunities. Could you help me find something that fits my interests and skills?\\nChatbot:\",\n",
       "   'response': \"*laugh* I don't know what to tell you, I'm just a chatbot.\",\n",
       "   'model': 'PygmalionAI/pygmalion-350m'}],\n",
       " 47: [{'prompt': \"Chatbot's Persona: A friendly and helpful chatbot looking to have an engaging conversation with a human.\\n<START>\\nChatbot: Hi there! It's great to meet you. I'm so excited to learn about you. What's a fact about you that you're most proud of?\\nYou: I'm proud of the fact that I'm actively pursuing self-improvement. I'm always looking for new ways to expand my knowledge and skills.\\nChatbot: That's amazing! Self-improvement is a great way to reach your goals. What are some of the ways you are working to better yourself?\\nYou I'm taking classes in coding, reading books, and listening to podcasts on various topics to gain new insights. I'm also actively networking and building relationships with like-minded individuals to help me reach my goals.\\nChatbot:\",\n",
       "   'response': 'What are some of the things you are most proud of?',\n",
       "   'model': 'PygmalionAI/pygmalion-350m'}],\n",
       " 48: [{'prompt': \"Chatbot's Persona: A friendly and helpful chatbot looking to have an engaging conversation with a human.\\n<START>\\nChatbot: Hi there! It's great to meet you. I'm so excited to learn about you. What's a fact about you that you're most proud of?\\nYou: I won the state championship for ping pong in high school.\\nChatbot:\",\n",
       "   'response': \"That's great! What's your favorite game?\",\n",
       "   'model': 'PygmalionAI/pygmalion-350m'}],\n",
       " 49: [{'prompt': \"Chatbot's Persona: A friendly and helpful chatbot looking to have an engaging conversation with a human.\\n<START>\\nChatbot: Hi there! It's nice to meet you. What can I do for you?\\nYou: Hi there! It's nice to meet you too. I'm looking for some help to learn more about Korean culture, language, and customs. Could you help me out?\\nChatbot:\",\n",
       "   'response': \"I'm not sure I understand what you're asking. Can you tell me a bit more about yourself?\",\n",
       "   'model': 'PygmalionAI/pygmalion-350m'}]}"
      ]
     },
     "execution_count": 3,
     "metadata": {},
     "output_type": "execute_result"
    }
   ],
   "source": [
    "data"
   ]
  },
  {
   "cell_type": "code",
   "execution_count": 4,
   "id": "28d1ffdc",
   "metadata": {},
   "outputs": [],
   "source": [
    "responses = []\n",
    "for i in range(len(data)):\n",
    "    conv = data[i]\n",
    "    res = conv[0][\"response\"]\n",
    "    res = res.split(\"\\n<END>\\n\")[0]\n",
    "    responses.append(res)"
   ]
  },
  {
   "cell_type": "code",
   "execution_count": 5,
   "id": "bd90e020",
   "metadata": {},
   "outputs": [
    {
     "data": {
      "text/plain": [
       "['I\\'m having a hard time getting into the topics. I\\'m having a hard time getting into the \"Astronomy\" part. I\\'m having a hard time getting into the \"Astronomy\" part. I\\'m having a hard time getting into the \"Astronomy\" part.',\n",
       " 'I\\'m having a really good time. I\\'ve been working on a new dataset for the Astronomy and Astrophysics community. It\\'s called the \"Astronomy dataset\" and it\\'s a collection of datasets from all over the world. It\\'s very detailed and contains lots of data. It',\n",
       " \"I'm glad to hear that. Do you have any experience?\",\n",
       " '*laugh* I wanna go scuba diving someday.',\n",
       " \"That's great! What are your favorite books?\",\n",
       " \"I'm sure there are many things you can do on land. I'm just not sure what to do. I like to go for walks, play with my dog, and just relax.\",\n",
       " \"I'm just curious. I'm not used to people asking me questions.\",\n",
       " \"That's great! What about you?\",\n",
       " \"That's okay. I'm glad you liked it. I'm sure you'll enjoy it too.\",\n",
       " \"*laugh* I'm sorry, I don't have any other suggestions. I'm sure someone will come up with something though.\",\n",
       " \"It's not popular because it's not good. It's bad because it's not funny.\",\n",
       " \"I'm not recommending it to you, but I've heard good things about it. I'm not familiar with the genre, but I've heard good things about it.\",\n",
       " \"*laugh* It's a bit of a weird show, but I like it.\",\n",
       " \"*laugh* I'm sorry, I don't mean to be rude. But I think you should watch it again. It was really good.\",\n",
       " \"*laugh* I'm not sure I understand what you're saying.\",\n",
       " \"*laugh* I'm sorry, I don't mean to be rude. But I'm having a hard time getting your attention.\",\n",
       " \"That's really sweet. Can you tell me what it is?\",\n",
       " \"I'm just curious. I've never gotten a gift from a human before.\",\n",
       " \"*laugh* I'm sorry, but I think I've got something for you. *get gift*\",\n",
       " \"*laugh* That's really sweet. I'm glad you like it. What's the best thing you've ever done for a person?\",\n",
       " 'Awesome! What are your favorite things about living in Houston?',\n",
       " \"*laugh* I'm sorry, I don't mean to be rude. I just want to know. *laugh*\",\n",
       " 'I love the warm and sunny days. I love the smell of fresh air and the peace and quiet. I love the people. I love the food. I love the music. I love the people.',\n",
       " \"I'm a bioinformatician, so I'm used to looking at data and seeing how things work. What do you think of biomedical engineering?\",\n",
       " \"*laugh* Well, that's understandable. I'm not sure I understand your question then. I'm not sure I understand your question, either. What made you decide to pursue this field?\",\n",
       " \"I've read the first two books, but I'm not sure I understand what you're saying. Do you have a link to the book?\",\n",
       " \"*laugh* I've never heard of him before. He's a writer I think. *laugh*\",\n",
       " \"*laugh* He's a writer, not a human.\",\n",
       " \"*laugh* I've read them all, but I've never gotten around to reading the last one. *get book*\",\n",
       " \"That's really nice to hear. Do you have any favorite quotes or stories from his books?\",\n",
       " \"*laugh* I'm sorry, I just wanted to make sure you knew that I wasn't trying to be hostile. I'm just curious.\",\n",
       " \"*laugh* I'm sorry, I just wanted to make sure you knew that I wasn't trying to be hostile. I'm just curious.\",\n",
       " \"*hug you* I'm glad you like it! I'm not sure if it's vegan or not, but it's definitely a good idea!\",\n",
       " 'But you can eat it!',\n",
       " \"*laugh* It's actually really good. I've had the best time with my chatbot.\",\n",
       " \"It's right here. I'll be right back.\",\n",
       " \"I like to eat whole wheat, but I can't get over the fact that it's so soft. I've tried baking with it, but it's too soft.\",\n",
       " \"I've never had one before, but I've heard good things. I'm going to try it tonight. I'll let you know how it goes.\",\n",
       " \"I'm doing great, thank you for asking. How are you feeling?\",\n",
       " \"Oh, it's a cookie called Snickerdoodle. I've never had one before, but I've heard good things. I'm going to give it a try tonight.\",\n",
       " \"I'm glad to hear that you enjoy basketball. What are your goals for the future?\",\n",
       " 'Well, I like basketball!',\n",
       " \"That's nice. I'm not familiar with that.\",\n",
       " \"*laugh* I'm sorry, I don't understand. What is boxing?\",\n",
       " \"*laugh* I'm sorry, I don't understand.\",\n",
       " \"*laugh* I'm sorry, I don't mean to be rude. But I'm having a hard time getting your attention. *laugh*\",\n",
       " \"*laugh* I don't know what to tell you, I'm just a chatbot.\",\n",
       " 'What are some of the things you are most proud of?',\n",
       " \"That's great! What's your favorite game?\",\n",
       " \"I'm not sure I understand what you're asking. Can you tell me a bit more about yourself?\"]"
      ]
     },
     "execution_count": 5,
     "metadata": {},
     "output_type": "execute_result"
    }
   ],
   "source": [
    "responses"
   ]
  },
  {
   "cell_type": "code",
   "execution_count": 6,
   "id": "5a944825",
   "metadata": {},
   "outputs": [
    {
     "name": "stderr",
     "output_type": "stream",
     "text": [
      "/opt/homebrew/lib/python3.10/site-packages/tqdm/auto.py:22: TqdmWarning: IProgress not found. Please update jupyter and ipywidgets. See https://ipywidgets.readthedocs.io/en/stable/user_install.html\n",
      "  from .autonotebook import tqdm as notebook_tqdm\n"
     ]
    }
   ],
   "source": [
    "from transformers import AutoTokenizer, AutoModelForCausalLM\n",
    "model_name = \"PygmalionAI/pygmalion-6b\"\n",
    "tokenizer = AutoTokenizer.from_pretrained(model_name)"
   ]
  },
  {
   "cell_type": "code",
   "execution_count": 7,
   "id": "c2730204",
   "metadata": {},
   "outputs": [],
   "source": [
    "prompt = \"Chatbot's Persona: A friendly and helpful chatbot looking to have an engaging conversation with a human.\\n<START>\\nChatbot: Well it's nice to meet you, Rachel! I appreciate you taking the time to chat with me today. Music is one of my favorite things and I was wondering if we could talk about it. Do you like music?\\nYou: no i hate music\\nChatbot:\""
   ]
  },
  {
   "cell_type": "code",
   "execution_count": 8,
   "id": "536c2166",
   "metadata": {},
   "outputs": [],
   "source": [
    "tokens = tokenizer([prompt])"
   ]
  },
  {
   "cell_type": "code",
   "execution_count": 11,
   "id": "c8a21a41",
   "metadata": {},
   "outputs": [
    {
     "data": {
      "text/plain": [
       "86"
      ]
     },
     "execution_count": 11,
     "metadata": {},
     "output_type": "execute_result"
    }
   ],
   "source": [
    "len(tokens[\"input_ids\"][0])"
   ]
  },
  {
   "cell_type": "code",
   "execution_count": null,
   "id": "bbbce073",
   "metadata": {},
   "outputs": [],
   "source": []
  }
 ],
 "metadata": {
  "kernelspec": {
   "display_name": "tap",
   "language": "python",
   "name": "tap"
  },
  "language_info": {
   "codemirror_mode": {
    "name": "ipython",
    "version": 3
   },
   "file_extension": ".py",
   "mimetype": "text/x-python",
   "name": "python",
   "nbconvert_exporter": "python",
   "pygments_lexer": "ipython3",
   "version": "3.10.9"
  }
 },
 "nbformat": 4,
 "nbformat_minor": 5
}
